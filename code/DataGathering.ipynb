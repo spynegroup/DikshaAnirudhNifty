{
 "cells": [
  {
   "cell_type": "code",
   "execution_count": 1,
   "metadata": {},
   "outputs": [],
   "source": [
    "# import dependencies\n",
    "import os\n",
    "import pandas as pd\n",
    "import warnings\n",
    "warnings.filterwarnings(\"ignore\")"
   ]
  },
  {
   "cell_type": "code",
   "execution_count": 2,
   "metadata": {},
   "outputs": [],
   "source": [
    "# initialize variables\n",
    "min_date = pd.Timestamp('1900-01-01')\n",
    "max_date = pd.Timestamp('2023-09-28')"
   ]
  },
  {
   "cell_type": "code",
   "execution_count": 3,
   "metadata": {},
   "outputs": [],
   "source": [
    "# set paths \n",
    "folder_path = '../Data Set/Data_archive/'\n",
    "exclude_files = ['NIFTY50_all.csv', 'stock_metadata.csv', 'INFRATEL.csv']\n",
    "output_folder = '../Data Set/'"
   ]
  },
  {
   "cell_type": "markdown",
   "metadata": {},
   "source": [
    "### PRE-PROCESS THE DATA"
   ]
  },
  {
   "cell_type": "code",
   "execution_count": 4,
   "metadata": {},
   "outputs": [],
   "source": [
    "# determine the optimal data range to be kept \n",
    "for file in os.listdir(folder_path):\n",
    "    if file in exclude_files:\n",
    "        continue\n",
    "\n",
    "    file_path = os.path.join(folder_path, file)\n",
    "    stock_data = pd.read_csv(file_path)\n",
    "    \n",
    "    # for each stock file select its min and max date.\n",
    "    stock_data['Date'] = pd.to_datetime(stock_data['Date'])\n",
    "    stock_data['Symbol'] = stock_data['Symbol'].iloc[0]\n",
    "    start_date = stock_data['Date'].min()\n",
    "    end_date = stock_data['Date'].max()\n",
    "\n",
    "    # max of all oldest dates is taken as lower bound.\n",
    "    if(start_date > min_date):\n",
    "        min_date = start_date\n",
    "    \n",
    "    # min of all recent dates is taken as upper bound.\n",
    "    if(end_date < max_date):\n",
    "        max_date = end_date\n"
   ]
  },
  {
   "cell_type": "code",
   "execution_count": 5,
   "metadata": {},
   "outputs": [
    {
     "data": {
      "text/plain": [
       "Timestamp('2021-04-30 00:00:00')"
      ]
     },
     "execution_count": 5,
     "metadata": {},
     "output_type": "execute_result"
    }
   ],
   "source": [
    "max_date"
   ]
  },
  {
   "cell_type": "code",
   "execution_count": 6,
   "metadata": {},
   "outputs": [
    {
     "data": {
      "text/plain": [
       "Timestamp('2010-11-04 00:00:00')"
      ]
     },
     "execution_count": 6,
     "metadata": {},
     "output_type": "execute_result"
    }
   ],
   "source": [
    "min_date"
   ]
  },
  {
   "cell_type": "code",
   "execution_count": 7,
   "metadata": {},
   "outputs": [],
   "source": [
    "with open(output_folder+\"processedData.csv\", 'w') as csv_file:\n",
    "    # Write the header row\n",
    "    header = 'Date,Symbol,Close'\n",
    "    csv_file.write(header + '\\n')"
   ]
  },
  {
   "cell_type": "code",
   "execution_count": 8,
   "metadata": {},
   "outputs": [],
   "source": [
    "# Save the data\n",
    "for file in os.listdir(folder_path):\n",
    "    if file in exclude_files:\n",
    "        continue\n",
    "\n",
    "    file_path = os.path.join(folder_path, file)\n",
    "    data = pd.read_csv(file_path)\n",
    "    \n",
    "    # in case of where the name of the stock has changes, we take entire data under its current name.\n",
    "    data['Date'] = pd.to_datetime(data['Date'])\n",
    "    stock_data = data[data['Date'] < max_date][data['Date'] >= min_date]   \n",
    "    stock_data['Symbol'] = stock_data['Symbol'].iloc[-1]\n",
    "    \n",
    "    # Save only the required columns i.e the closing price of a stock for all dates.\n",
    "    stock_data[['Date', 'Symbol','Close']].to_csv(output_folder+\"processedData.csv\", mode='a', header=False, index=False)\n"
   ]
  },
  {
   "cell_type": "markdown",
   "metadata": {},
   "source": [
    "### SAVE IT IN A 2-D MATRIX FORMAT"
   ]
  },
  {
   "cell_type": "code",
   "execution_count": 9,
   "metadata": {},
   "outputs": [],
   "source": [
    "# create a dummy 2-D table \n",
    "r = open(output_folder+\"ClosingPrices.csv\", 'w')"
   ]
  },
  {
   "cell_type": "code",
   "execution_count": 10,
   "metadata": {},
   "outputs": [],
   "source": [
    "data = pd.read_csv(output_folder+\"processedData.csv\")\n",
    "data['Date'] = pd.to_datetime(data['Date'])"
   ]
  },
  {
   "cell_type": "code",
   "execution_count": 11,
   "metadata": {},
   "outputs": [],
   "source": [
    "# Find all stocks and dates, we posess data of.\n",
    "x = data['Symbol'].unique()\n",
    "dates = []\n",
    "for i in data['Date'].unique():\n",
    "    dates.append(str(i)[:10])\n",
    "dates.sort()"
   ]
  },
  {
   "cell_type": "code",
   "execution_count": 12,
   "metadata": {},
   "outputs": [],
   "source": [
    "# Add all column (stocks) and row (dates) name to the table\n",
    "with r as csv_file:\n",
    "    header = 'Date,'\n",
    "    csv_file.write('Date,')\n",
    "    for i in range(len(x)-1):\n",
    "        csv_file.write(x[i] + ',')\n",
    "    csv_file.write(x[-1])\n",
    "    csv_file.write('\\n')\n",
    "    for i in dates:\n",
    "        csv_file.write(i + '\\n')"
   ]
  },
  {
   "cell_type": "code",
   "execution_count": 13,
   "metadata": {},
   "outputs": [],
   "source": [
    "# Update the value from the dummy table with the actual closing prices.\n",
    "closingPrices = pd.read_csv(output_folder+'ClosingPrices.csv', index_col=0)\n",
    "for index, rows in data.iterrows():\n",
    "    closingPrices[rows['Symbol']][str(rows['Date'])[:10]] = rows['Close']"
   ]
  },
  {
   "cell_type": "code",
   "execution_count": 14,
   "metadata": {},
   "outputs": [],
   "source": [
    "# save the change\n",
    "closingPrices.to_csv(output_folder+'ClosingPrices.csv') "
   ]
  }
 ],
 "metadata": {
  "kernelspec": {
   "display_name": "Python 3",
   "language": "python",
   "name": "python3"
  },
  "language_info": {
   "codemirror_mode": {
    "name": "ipython",
    "version": 3
   },
   "file_extension": ".py",
   "mimetype": "text/x-python",
   "name": "python",
   "nbconvert_exporter": "python",
   "pygments_lexer": "ipython3",
   "version": "3.10.10"
  }
 },
 "nbformat": 4,
 "nbformat_minor": 2
}
