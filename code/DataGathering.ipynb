{
 "cells": [
  {
   "cell_type": "code",
   "execution_count": 1,
   "metadata": {},
   "outputs": [],
   "source": [
    "import os\n",
    "import pandas as pd\n",
    "import warnings\n",
    "warnings.filterwarnings(\"ignore\")"
   ]
  },
  {
   "cell_type": "code",
   "execution_count": 2,
   "metadata": {},
   "outputs": [],
   "source": [
    "\n",
    "min_date = pd.Timestamp('1900-01-01')\n",
    "max_date = pd.Timestamp('2023-09-28')"
   ]
  },
  {
   "cell_type": "code",
   "execution_count": 3,
   "metadata": {},
   "outputs": [],
   "source": [
    "folder_path = '../Inputs/Data_archive/'\n",
    "exclude_files = ['NIFTY50_all.csv', 'stock_metadata.csv', 'INFRATEL.csv']\n",
    "output_file_path = '../Inputs/processedData.csv'"
   ]
  },
  {
   "cell_type": "code",
   "execution_count": 4,
   "metadata": {},
   "outputs": [],
   "source": [
    "for file in os.listdir(folder_path):\n",
    "    if file in exclude_files:\n",
    "        continue\n",
    "\n",
    "    file_path = os.path.join(folder_path, file)\n",
    "    stock_data = pd.read_csv(file_path)\n",
    "    \n",
    "    # unique_symbols = data['Symbol'].unique()\n",
    "    \n",
    "    # for stock in unique_symbols:\n",
    "    #     stock_data = data[data['Symbol'] == stock]\n",
    "    stock_data['Date'] = pd.to_datetime(stock_data['Date'])\n",
    "    \n",
    "    start_date = stock_data['Date'].min()\n",
    "    end_date = stock_data['Date'].max()\n",
    "\n",
    "    # print(stock, file, start_date, end_date)\n",
    "    if(start_date > min_date):\n",
    "        min_date = start_date\n",
    "    if(end_date < max_date):\n",
    "        max_date = end_date\n",
    "    # print()\n"
   ]
  },
  {
   "cell_type": "code",
   "execution_count": 5,
   "metadata": {},
   "outputs": [
    {
     "data": {
      "text/plain": [
       "Timestamp('2021-04-30 00:00:00')"
      ]
     },
     "execution_count": 5,
     "metadata": {},
     "output_type": "execute_result"
    }
   ],
   "source": [
    "max_date"
   ]
  },
  {
   "cell_type": "code",
   "execution_count": 6,
   "metadata": {},
   "outputs": [
    {
     "data": {
      "text/plain": [
       "Timestamp('2010-11-04 00:00:00')"
      ]
     },
     "execution_count": 6,
     "metadata": {},
     "output_type": "execute_result"
    }
   ],
   "source": [
    "min_date"
   ]
  },
  {
   "cell_type": "code",
   "execution_count": 7,
   "metadata": {},
   "outputs": [],
   "source": [
    "with open(output_file_path, 'w') as csv_file:\n",
    "    # Write the header row\n",
    "    header = 'Date,Symbol,Close'\n",
    "    csv_file.write(header + '\\n')"
   ]
  },
  {
   "cell_type": "code",
   "execution_count": 8,
   "metadata": {},
   "outputs": [],
   "source": [
    "for file in os.listdir(folder_path):\n",
    "    if file in exclude_files:\n",
    "        continue\n",
    "\n",
    "    file_path = os.path.join(folder_path, file)\n",
    "    data = pd.read_csv(file_path)\n",
    "    \n",
    "    data['Date'] = pd.to_datetime(data['Date'])\n",
    "    stock_data = data[data['Date'] < max_date][data['Date'] >= min_date]   \n",
    "    stock_data['Symbol'] = stock_data['Symbol'].iloc[0]\n",
    "    \n",
    "    stock_data[['Date', 'Symbol','Close']].to_csv(output_file_path, mode='a', header=False, index=False)\n"
   ]
  },
  {
   "cell_type": "code",
   "execution_count": 9,
   "metadata": {},
   "outputs": [],
   "source": [
    "file = '../Inputs/processedData.csv'"
   ]
  },
  {
   "cell_type": "code",
   "execution_count": 10,
   "metadata": {},
   "outputs": [],
   "source": [
    "data = pd.read_csv(file)\n",
    "data['Date'] = pd.to_datetime(data['Date'])"
   ]
  },
  {
   "cell_type": "code",
   "execution_count": 11,
   "metadata": {},
   "outputs": [],
   "source": [
    "r = open(\"ClosingPrices.csv\", 'w')"
   ]
  },
  {
   "cell_type": "code",
   "execution_count": 12,
   "metadata": {},
   "outputs": [],
   "source": [
    "x = data['Symbol'].unique()\n",
    "dates = []\n",
    "for i in data['Date'].unique():\n",
    "    dates.append(str(i)[:10])\n",
    "dates.sort()"
   ]
  },
  {
   "cell_type": "code",
   "execution_count": 13,
   "metadata": {},
   "outputs": [],
   "source": [
    "with r as csv_file:\n",
    "    # Write the header row\n",
    "    header = 'Date,'\n",
    "    csv_file.write('Date,')\n",
    "    for i in range(len(x)-1):\n",
    "        csv_file.write(x[i] + ',')\n",
    "    csv_file.write(x[-1])\n",
    "    csv_file.write('\\n')\n",
    "    for i in dates:\n",
    "        csv_file.write(i + '\\n')"
   ]
  },
  {
   "cell_type": "code",
   "execution_count": 15,
   "metadata": {},
   "outputs": [],
   "source": [
    "closingPrices = pd.read_csv('ClosingPrices.csv', index_col=0)\n",
    "for index, rows in data.iterrows():\n",
    "    closingPrices[rows['Symbol']][str(rows['Date'])[:10]] = rows['Close']"
   ]
  },
  {
   "cell_type": "code",
   "execution_count": 16,
   "metadata": {},
   "outputs": [],
   "source": [
    "closingPrices.to_csv('ClosingPrices.csv')  "
   ]
  },
  {
   "cell_type": "code",
   "execution_count": null,
   "metadata": {},
   "outputs": [],
   "source": []
  }
 ],
 "metadata": {
  "kernelspec": {
   "display_name": "Python 3",
   "language": "python",
   "name": "python3"
  },
  "language_info": {
   "codemirror_mode": {
    "name": "ipython",
    "version": 3
   },
   "file_extension": ".py",
   "mimetype": "text/x-python",
   "name": "python",
   "nbconvert_exporter": "python",
   "pygments_lexer": "ipython3",
   "version": "3.10.4"
  },
  "orig_nbformat": 4
 },
 "nbformat": 4,
 "nbformat_minor": 2
}
